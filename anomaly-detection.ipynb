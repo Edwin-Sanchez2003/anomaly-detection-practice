{
 "cells": [
  {
   "cell_type": "markdown",
   "metadata": {},
   "source": [
    "Edwin Sanchez\n",
    "\n",
    "# Anomaly Detection\n",
    "\n",
    "This notebook contains code exemplifying how to do anomaly detection using an example dataset.\n",
    "\n",
    "> I \"borrowed\" a lot of code from the PyTorch Metric Learning's [Examples on Google Colab](https://github.com/KevinMusgrave/pytorch-metric-learning/blob/master/examples/README.md), specifically the [MNIST using SubCenterArcFaceLoss](https://github.com/KevinMusgrave/pytorch-metric-learning/blob/master/examples/notebooks/SubCenterArcFaceMNIST.ipynb) Notebook."
   ]
  },
  {
   "cell_type": "code",
   "execution_count": 1,
   "metadata": {},
   "outputs": [],
   "source": [
    "# Imports\n",
    "import torch\n",
    "import torch.nn as nn\n",
    "import torch.nn.functional as F\n",
    "import torch.optim as optim\n",
    "from torchvision import datasets, transforms\n",
    "\n",
    "from pytorch_metric_learning import losses, testers\n",
    "from pytorch_metric_learning.utils.accuracy_calculator import AccuracyCalculator\n",
    "\n",
    "import os\n",
    "from tqdm import tqdm\n",
    "import pandas as pd\n",
    "import numpy as np"
   ]
  },
  {
   "cell_type": "markdown",
   "metadata": {},
   "source": [
    "## Additive Angular Margin Loss\n",
    "\n",
    "The next section contains an implementation of the loss function called \"Additive Angular Margin Loss\", which is a loss function designed to create feature embeddings in a space of a target size. It does this by forcing output embeddings of a certain class to be *closer* in euclidean space, all while forcing embeddings of different classes to be farther apart. It does this along the surface of a hypersphere, with dimensions equal to the number of embedding dimensions (output dimensionality). For more details, please see the Acknowledgements section of the README, which contains a reference to ArcFace, the paper that introduces this loss function."
   ]
  },
  {
   "cell_type": "markdown",
   "metadata": {},
   "source": [
    "## Define Useful Functions / Import Custom Functions"
   ]
  },
  {
   "cell_type": "code",
   "execution_count": 10,
   "metadata": {},
   "outputs": [],
   "source": [
    "# Useful Functions\n",
    "\n",
    "from load_dataset import load_dataset_pd"
   ]
  },
  {
   "cell_type": "markdown",
   "metadata": {},
   "source": [
    "## Load the Dataset"
   ]
  },
  {
   "cell_type": "code",
   "execution_count": null,
   "metadata": {},
   "outputs": [],
   "source": [
    "# Load the Dataset\n",
    "\n",
    "# the directory containing the CIC-IDS2017 dataset\n",
    "DATASET_DIR : str = \"./CIC-IDS2017/\"\n",
    "\n",
    "# load the dataset\n",
    "file_paths, dfs = load_dataset_pd ( dataset_dir = DATASET_DIR )\n",
    "\n",
    "# print contents\n",
    "for file_path, df in zip ( file_paths, dfs ):\n",
    "    print ( f\"File Path: { file_path }\" )\n",
    "    print ( df.head ( n = 2 ) )"
   ]
  },
  {
   "cell_type": "markdown",
   "metadata": {},
   "source": [
    "## Implement the Model"
   ]
  },
  {
   "cell_type": "markdown",
   "metadata": {},
   "source": [
    "## Train Model"
   ]
  }
 ],
 "metadata": {
  "kernelspec": {
   "display_name": "anomaly_detection",
   "language": "python",
   "name": "python3"
  },
  "language_info": {
   "codemirror_mode": {
    "name": "ipython",
    "version": 3
   },
   "file_extension": ".py",
   "mimetype": "text/x-python",
   "name": "python",
   "nbconvert_exporter": "python",
   "pygments_lexer": "ipython3",
   "version": "3.11.9"
  }
 },
 "nbformat": 4,
 "nbformat_minor": 2
}
